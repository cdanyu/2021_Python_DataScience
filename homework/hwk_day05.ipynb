{
 "cells": [
  {
   "cell_type": "code",
   "execution_count": 2,
   "metadata": {},
   "outputs": [],
   "source": [
    "import numpy as np"
   ]
  },
  {
   "cell_type": "code",
   "execution_count": null,
   "metadata": {},
   "outputs": [],
   "source": [
    "作業目標\n",
    "計算有缺失值的資料，統計量實作\n",
    "作業重點\n",
    "當遇到缺失值有函式可以處理，不須額外寫程式刪除\n",
    "計算統計量時不能出現缺失值\n",
    "\n",
    "題目:\n",
    "english_score = np.array([55,89,76,65,48,70])\n",
    "math_score = np.array([60,85,60,68,np.nan,60])\n",
    "chinese_score = np.array([65,90,82,72,66,77])\n",
    "上3列共六位同學的英文、數學、國文成績，第一個元素代表第一位同學，舉例第一位同學英文55分、數學60分、國文65分，今天第五位同學因某原因沒來考試，導致數學成績缺值，運用上列數據回答下列問題。\n",
    "\n",
    "請計算各科成績平均、最大值、最小值、標準差，其中數學缺一筆資料可忽略?\n",
    "第五位同學補考數學後成績為55，請計算補考後數學成績平均、最大值、最小值、標準差?\n",
    "用補考後資料找出與國文成績相關係數最高的學科?"
   ]
  },
  {
   "cell_type": "code",
   "execution_count": 3,
   "metadata": {},
   "outputs": [],
   "source": [
    "english_score = np.array([55,89,76,65,48,70])\n",
    "math_score = np.array([60,85,60,68,np.nan,60])\n",
    "chinese_score = np.array([65,90,82,72,66,77])"
   ]
  },
  {
   "cell_type": "code",
   "execution_count": null,
   "metadata": {},
   "outputs": [],
   "source": [
    "#1. 請計算各科成績平均、最大值、最小值、標準差，其中數學缺一筆資料可忽略?"
   ]
  },
  {
   "cell_type": "code",
   "execution_count": 4,
   "metadata": {},
   "outputs": [
    {
     "name": "stdout",
     "output_type": "stream",
     "text": [
      "english mean:  67.17\n",
      "math mean:  66.6\n",
      "chinese mean:  75.33\n"
     ]
    }
   ],
   "source": [
    "english_mean = np.nanmean(english_score)\n",
    "math_mean = np.nanmean(math_score)\n",
    "chinese_mean = np.nanmean(chinese_score)\n",
    "\n",
    "print(\"english mean: \", np.round(english_mean, 2))\n",
    "print(\"math mean: \", np.round(math_mean, 2))\n",
    "print(\"chinese mean: \", np.round(chinese_mean, 2))"
   ]
  },
  {
   "cell_type": "code",
   "execution_count": 5,
   "metadata": {},
   "outputs": [
    {
     "name": "stdout",
     "output_type": "stream",
     "text": [
      "english max:  89\n",
      "math max:  85.0\n",
      "chinese max:  90\n"
     ]
    }
   ],
   "source": [
    "english_max = np.nanmax(english_score)\n",
    "math_max = np.nanmax(math_score)\n",
    "chinese_max = np.nanmax(chinese_score)\n",
    "\n",
    "print(\"english max: \", english_max)\n",
    "print(\"math max: \", math_max)\n",
    "print(\"chinese max: \", chinese_max)"
   ]
  },
  {
   "cell_type": "code",
   "execution_count": 6,
   "metadata": {},
   "outputs": [
    {
     "name": "stdout",
     "output_type": "stream",
     "text": [
      "english min:  48\n",
      "math min:  60.0\n",
      "chinese min:  65\n"
     ]
    }
   ],
   "source": [
    "english_min = np.nanmin(english_score)\n",
    "math_min = np.nanmin(math_score)\n",
    "chinese_min = np.nanmin(chinese_score)\n",
    "\n",
    "print(\"english min: \", english_min)\n",
    "print(\"math min: \", math_min)\n",
    "print(\"chinese min: \", chinese_min)"
   ]
  },
  {
   "cell_type": "code",
   "execution_count": 7,
   "metadata": {},
   "outputs": [
    {
     "name": "stdout",
     "output_type": "stream",
     "text": [
      "english std:  13.433995020924426\n",
      "math std:  9.707728879609279\n",
      "chinese std:  8.825468196582484\n"
     ]
    }
   ],
   "source": [
    "english_std = np.nanstd(english_score)\n",
    "math_std = np.nanstd(math_score)\n",
    "chinese_std = np.nanstd(chinese_score)\n",
    "\n",
    "print(\"english std: \", english_std)\n",
    "print(\"math std: \", math_std)\n",
    "print(\"chinese std: \", chinese_std)"
   ]
  },
  {
   "cell_type": "code",
   "execution_count": null,
   "metadata": {},
   "outputs": [],
   "source": [
    "#2. 第五位同學補考數學後成績為55，請計算補考後數學成績平均、最大值、最小值、標準差?"
   ]
  },
  {
   "cell_type": "code",
   "execution_count": 8,
   "metadata": {},
   "outputs": [
    {
     "name": "stdout",
     "output_type": "stream",
     "text": [
      "english mean:  67.17\n",
      "math mean:  64.67\n",
      "chinese mean:  75.33\n",
      "english max:  89\n",
      "math max:  85.0\n",
      "chinese max:  90\n",
      "english min:  48\n",
      "math min:  55.0\n",
      "chinese min:  65\n",
      "english std:  13.433995020924426\n",
      "math std:  9.860132971832694\n",
      "chinese std:  8.825468196582484\n"
     ]
    }
   ],
   "source": [
    "math_score[4] = 55\n",
    "\n",
    "english_mean = np.nanmean(english_score)\n",
    "math_mean = np.nanmean(math_score)\n",
    "chinese_mean = np.nanmean(chinese_score)\n",
    "\n",
    "print(\"english mean: \", np.round(english_mean, 2))\n",
    "print(\"math mean: \", np.round(math_mean, 2))\n",
    "print(\"chinese mean: \", np.round(chinese_mean, 2))\n",
    "\n",
    "english_max = np.nanmax(english_score)\n",
    "math_max = np.nanmax(math_score)\n",
    "chinese_max = np.nanmax(chinese_score)\n",
    "\n",
    "print(\"english max: \", english_max)\n",
    "print(\"math max: \", math_max)\n",
    "print(\"chinese max: \", chinese_max)\n",
    "\n",
    "english_min = np.nanmin(english_score)\n",
    "math_min = np.nanmin(math_score)\n",
    "chinese_min = np.nanmin(chinese_score)\n",
    "\n",
    "print(\"english min: \", english_min)\n",
    "print(\"math min: \", math_min)\n",
    "print(\"chinese min: \", chinese_min)\n",
    "\n",
    "english_std = np.nanstd(english_score)\n",
    "math_std = np.nanstd(math_score)\n",
    "chinese_std = np.nanstd(chinese_score)\n",
    "\n",
    "print(\"english std: \", english_std)\n",
    "print(\"math std: \", math_std)\n",
    "print(\"chinese std: \", chinese_std)"
   ]
  },
  {
   "cell_type": "code",
   "execution_count": null,
   "metadata": {},
   "outputs": [],
   "source": [
    "#3. 用補考後資料找出與國文成績相關係數最高的學科?"
   ]
  },
  {
   "cell_type": "code",
   "execution_count": 13,
   "metadata": {},
   "outputs": [
    {
     "name": "stdout",
     "output_type": "stream",
     "text": [
      "[[1.         0.97792828]\n",
      " [0.97792828 1.        ]]\n",
      "[[1.         0.74056803]\n",
      " [0.74056803 1.        ]]\n"
     ]
    }
   ],
   "source": [
    "correlation_eng = np.corrcoef(chinese_score, english_score)\n",
    "print(correlation_eng)\n",
    "correlation_math = np.corrcoef(chinese_score, math_score)\n",
    "print(correlation_math)"
   ]
  }
 ],
 "metadata": {
  "kernelspec": {
   "display_name": "Python 3",
   "language": "python",
   "name": "python3"
  },
  "language_info": {
   "codemirror_mode": {
    "name": "ipython",
    "version": 3
   },
   "file_extension": ".py",
   "mimetype": "text/x-python",
   "name": "python",
   "nbconvert_exporter": "python",
   "pygments_lexer": "ipython3",
   "version": "3.8.5"
  }
 },
 "nbformat": 4,
 "nbformat_minor": 4
}
