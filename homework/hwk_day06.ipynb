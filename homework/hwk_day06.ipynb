{
 "cells": [
  {
   "cell_type": "code",
   "execution_count": null,
   "metadata": {},
   "outputs": [],
   "source": [
    "作業目標\n",
    "讀取存取陣列資料\n",
    "作業重點\n",
    "多陣列存一起需要存成npz，讀取須注意npz中有多個陣列\n",
    "\n",
    "題目:\n",
    "\n",
    "將下兩列array存成npz檔\n",
    "array1 = np.array(range(30))\n",
    "array2 = np.array([2,3,5])\n",
    "讀取剛剛的npz檔，加入下列array一起存成新的npz檔"
   ]
  },
  {
   "cell_type": "code",
   "execution_count": 2,
   "metadata": {},
   "outputs": [],
   "source": [
    "import numpy as np\n",
    "\n",
    "#. 1 將下兩列 array 存成 npz 檔\n",
    "x1 = np.array(range(30))\n",
    "x2 = np.array([2,3,5])\n",
    "\n",
    "with open('one_array.npz', 'wb') as f:\n",
    "    np.savez(f, array1=x1, array2=x2)"
   ]
  },
  {
   "cell_type": "code",
   "execution_count": 3,
   "metadata": {},
   "outputs": [
    {
     "name": "stdout",
     "output_type": "stream",
     "text": [
      "[2021   10   14]\n",
      "[ 0  1  2  3  4  5  6  7  8  9 10 11 12 13 14 15 16 17 18 19 20 21 22 23\n",
      " 24 25 26 27 28 29] [2 3 5] [2021   10   14]\n"
     ]
    }
   ],
   "source": [
    "#2. 讀取剛剛的npz檔，加入下列array一起存成新的npz檔\n",
    "# 新的陣列\n",
    "array3 = np.array([2021, 10, 14])\n",
    "\n",
    "# 以覆寫模式開啟檔案\n",
    "f = open(\"one_array.npz\", \"a\")\n",
    "\n",
    "# 寫入資料\n",
    "print(array3)\n",
    "\n",
    "# 關閉檔案\n",
    "f.close()\n",
    "\n",
    "# 讀取檔案\n",
    "npzfile = np.load('one_array.npz')\n",
    "print(npzfile['array1'], npzfile['array2'], array3)"
   ]
  }
 ],
 "metadata": {
  "kernelspec": {
   "display_name": "Python 3",
   "language": "python",
   "name": "python3"
  },
  "language_info": {
   "codemirror_mode": {
    "name": "ipython",
    "version": 3
   },
   "file_extension": ".py",
   "mimetype": "text/x-python",
   "name": "python",
   "nbconvert_exporter": "python",
   "pygments_lexer": "ipython3",
   "version": "3.8.5"
  }
 },
 "nbformat": 4,
 "nbformat_minor": 4
}
