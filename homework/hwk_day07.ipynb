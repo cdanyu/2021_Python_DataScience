{
 "cells": [
  {
   "cell_type": "code",
   "execution_count": null,
   "metadata": {},
   "outputs": [],
   "source": [
    "作業目標\n",
    "活用矩陣運算，實做線性代數\n",
    "作業重點\n",
    "線性代數公式應用\n",
    "矩陣相乘維度需要對好，例如:2X3矩陣乘上3X5矩陣得到2X5矩陣\n",
    "\n",
    "題目:\n",
    "array1 = np.array([[10, 8], [3, 5]])\n",
    "\n",
    "運用上列array計算反矩陣，乘上原矩陣，並觀察是否為單位矩陣?\n",
    "運用上列array計算特徵值、特徵向量?\n",
    "運用上列array計算SVD?"
   ]
  },
  {
   "cell_type": "code",
   "execution_count": 1,
   "metadata": {},
   "outputs": [],
   "source": [
    "import numpy as np"
   ]
  },
  {
   "cell_type": "code",
   "execution_count": 9,
   "metadata": {},
   "outputs": [
    {
     "name": "stdout",
     "output_type": "stream",
     "text": [
      "陣列:\n",
      " [[10  8]\n",
      " [ 3  5]]\n"
     ]
    }
   ],
   "source": [
    "#1. 運用上列array計算反矩陣，乘上原矩陣，並觀察是否為單位矩陣?\n",
    "array1 = np.array([[10, 8], [3, 5]])\n",
    "print('陣列:\\n', array1)"
   ]
  },
  {
   "cell_type": "code",
   "execution_count": 11,
   "metadata": {},
   "outputs": [
    {
     "name": "stdout",
     "output_type": "stream",
     "text": [
      "反矩陣(inverse):\n",
      " [[ 0.19230769 -0.30769231]\n",
      " [-0.11538462  0.38461538]]\n"
     ]
    }
   ],
   "source": [
    "array1_inv = np.linalg.inv(array1)\n",
    "print('反矩陣(inverse):\\n', array1_inv)"
   ]
  },
  {
   "cell_type": "code",
   "execution_count": 46,
   "metadata": {},
   "outputs": [
    {
     "name": "stdout",
     "output_type": "stream",
     "text": [
      "反矩陣乘上原矩陣是否為單位矩陣(identity):\n",
      " [[1. 0.]\n",
      " [0. 1.]]\n"
     ]
    },
    {
     "data": {
      "text/plain": [
       "array([[0, 0],\n",
       "       [0, 1]])"
      ]
     },
     "execution_count": 46,
     "metadata": {},
     "output_type": "execute_result"
    }
   ],
   "source": [
    "array1_matmul = np.matmul(array1, array1_inv)\n",
    "print('反矩陣乘上原矩陣是否為單位矩陣(identity):\\n', array1_matmul)\n",
    "array1_matmul.astype(int)"
   ]
  },
  {
   "cell_type": "code",
   "execution_count": 43,
   "metadata": {},
   "outputs": [
    {
     "name": "stdout",
     "output_type": "stream",
     "text": [
      "[[1. 0.]\n",
      " [0. 1.]]\n"
     ]
    }
   ],
   "source": [
    "array1_dot = np.dot(array1_inv, array1)\n",
    "print(array1_dot)"
   ]
  },
  {
   "cell_type": "code",
   "execution_count": 23,
   "metadata": {},
   "outputs": [
    {
     "name": "stdout",
     "output_type": "stream",
     "text": [
      "計算特徵值(eigenvalue):  [13.  2.]\n"
     ]
    }
   ],
   "source": [
    "#2. 運用上列array計算特徵值、特徵向量?\n",
    "np.linalg.eigvals(array1)\n",
    "print('計算特徵值(eigenvalue): ', np.linalg.eigvals(array1))"
   ]
  },
  {
   "cell_type": "code",
   "execution_count": 33,
   "metadata": {},
   "outputs": [
    {
     "name": "stdout",
     "output_type": "stream",
     "text": [
      "特徵值eigenvalue: \n",
      " [13.  2.]\n",
      "特徵量eigenvector: \n",
      " [[ 0.93632918 -0.70710678]\n",
      " [ 0.35112344  0.70710678]]\n"
     ]
    }
   ],
   "source": [
    "eigenvalue, eigenvector = np.linalg.eig(array1)\n",
    "print('特徵值eigenvalue: \\n', eigenvalue)\n",
    "print('特徵量eigenvector: \\n', eigenvector)"
   ]
  },
  {
   "cell_type": "code",
   "execution_count": 35,
   "metadata": {},
   "outputs": [
    {
     "name": "stdout",
     "output_type": "stream",
     "text": [
      "奇異值SVD(singular value decomposition): \n",
      " (array([[-0.91663818, -0.39971796],\n",
      "       [-0.39971796,  0.91663818]]), array([13.94721714,  1.86417116]), array([[-0.74319741, -0.6690722 ],\n",
      "       [-0.6690722 ,  0.74319741]]))\n"
     ]
    }
   ],
   "source": [
    "#3. 運用上列array計算SVD?\n",
    "print('奇異值SVD(singular value decomposition): \\n', np.linalg.svd(array1))"
   ]
  },
  {
   "cell_type": "code",
   "execution_count": null,
   "metadata": {},
   "outputs": [],
   "source": []
  }
 ],
 "metadata": {
  "kernelspec": {
   "display_name": "Python 3",
   "language": "python",
   "name": "python3"
  },
  "language_info": {
   "codemirror_mode": {
    "name": "ipython",
    "version": 3
   },
   "file_extension": ".py",
   "mimetype": "text/x-python",
   "name": "python",
   "nbconvert_exporter": "python",
   "pygments_lexer": "ipython3",
   "version": "3.8.5"
  }
 },
 "nbformat": 4,
 "nbformat_minor": 4
}
