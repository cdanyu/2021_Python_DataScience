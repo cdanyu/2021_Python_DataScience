{
 "cells": [
  {
   "cell_type": "code",
   "execution_count": null,
   "metadata": {},
   "outputs": [],
   "source": [
    "題目：\n",
    "\n",
    "name_list = ['小明','小華','小菁','小美','小張','John','Mark','Tom']\n",
    "sex_list = ['boy','boy','girl','girl','boy','boy','boy','boy']\n",
    "weight_list = [67.5,75.3,50.1,45.5,80.8,90.4,78.4,70.7]\n",
    "rank_list = [8,1,5,4,7,6,2,3]\n",
    "myopia_list = [True,True,False,False,True,True,False,False]\n",
    "\n",
    "將上列 list 依照['name', 'sex', 'weight', 'rank', 'myopia']順序擺入 array，並且資料型態順序擺入[Unicode,Unicode,float,int,boolean]\n",
    "呈上題，將 array 中體重(weight)數據集取出算出全部平均體重\n",
    "呈上題，進一步算出男生(sex 欄位是 boy)平均體重、女生(sex 欄位是 girl)平均體重"
   ]
  },
  {
   "cell_type": "code",
   "execution_count": 1,
   "metadata": {},
   "outputs": [],
   "source": [
    "import numpy as np\n",
    "\n",
    "name_list = ['小明', '小華', '小菁', '小美', '小張', 'John', 'Mark', 'Tom']\n",
    "sex_list = ['boy', 'boy', 'girl', 'girl', 'boy', 'boy', 'boy', 'boy']\n",
    "weight_list = [67.5, 75.3, 50.1, 45.5, 80.8, 90.4, 78.4, 70.7]\n",
    "rank_list = [8, 1, 5, 4, 7, 6, 2, 3]\n",
    "myopia_list = [True, True, False, False, True, True, False, False]"
   ]
  },
  {
   "cell_type": "code",
   "execution_count": 5,
   "metadata": {},
   "outputs": [
    {
     "name": "stdout",
     "output_type": "stream",
     "text": [
      "[('小明', 'boy', 67.5, 8,  True) ('小華', 'boy', 75.3, 1,  True)\n",
      " ('小菁', 'girl', 50.1, 5, False) ('小美', 'girl', 45.5, 4, False)\n",
      " ('小張', 'boy', 80.8, 7,  True) ('John', 'boy', 90.4, 6,  True)\n",
      " ('Mark', 'boy', 78.4, 2, False) ('Tom', 'boy', 70.7, 3, False)]\n"
     ]
    }
   ],
   "source": [
    "#1. 將上列 list 依照['name', 'sex', 'weight', 'rank', 'myopia']順序擺入 array，並且資料型態順序擺入[Unicode,Unicode,float,int,boolean]\n",
    "dt = np.dtype({'names':('name', 'sex', 'weight', 'rank', 'myopia'), 'formats':((np.str_, 5), (np.str_, 4), float, int, bool)})\n",
    "mem = np.zeros(8, dtype = dt)\n",
    "mem['name'] = name_list\n",
    "mem['sex'] = sex_list\n",
    "mem['weight'] = weight_list\n",
    "mem['rank'] = rank_list\n",
    "mem['myopia'] = myopia_list\n",
    "print(mem)"
   ]
  },
  {
   "cell_type": "code",
   "execution_count": 11,
   "metadata": {},
   "outputs": [
    {
     "name": "stdout",
     "output_type": "stream",
     "text": [
      "69.8375\n",
      "69.8375\n"
     ]
    }
   ],
   "source": [
    "#2. 呈上題，將 array 中體重(weight)數據集取出算出全部平均體重\n",
    "weight_avg = np.mean(mem['weight'])\n",
    "print(weight_avg)\n",
    "print(np.mean(weight_list))"
   ]
  },
  {
   "cell_type": "code",
   "execution_count": 16,
   "metadata": {},
   "outputs": [
    {
     "name": "stdout",
     "output_type": "stream",
     "text": [
      "boy avg weight:  77.18333333333332\n",
      "girl avg weight:  47.8\n"
     ]
    }
   ],
   "source": [
    "#3. 呈上題，進一步算出男生(sex 欄位是 boy)平均體重、女生(sex 欄位是 girl)平均體重\n",
    "weight_avg_boy = np.mean(mem[mem['sex'] == 'boy']['weight'])\n",
    "weight_avg_girl = np.mean(mem[mem['sex'] == 'girl']['weight'])\n",
    "print('boy avg weight: ', weight_avg_boy)\n",
    "print('girl avg weight: ', weight_avg_girl)"
   ]
  }
 ],
 "metadata": {
  "kernelspec": {
   "display_name": "Python 3",
   "language": "python",
   "name": "python3"
  },
  "language_info": {
   "codemirror_mode": {
    "name": "ipython",
    "version": 3
   },
   "file_extension": ".py",
   "mimetype": "text/x-python",
   "name": "python",
   "nbconvert_exporter": "python",
   "pygments_lexer": "ipython3",
   "version": "3.8.5"
  }
 },
 "nbformat": 4,
 "nbformat_minor": 4
}
