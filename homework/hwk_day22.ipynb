{
 "cells": [
  {
   "cell_type": "code",
   "execution_count": 3,
   "metadata": {},
   "outputs": [],
   "source": [
    "import matplotlib.pyplot as plt\n",
    "import numpy as np\n",
    "import pandas as pd\n",
    "from scipy import stats\n",
    "import math\n",
    "import statistics\n",
    "import seaborn as sns"
   ]
  },
  {
   "cell_type": "code",
   "execution_count": 4,
   "metadata": {},
   "outputs": [],
   "source": [
    "boys=[164, 176, 169, 169, 165, \n",
    "      175, 159, 151, 144, 160, \n",
    "      183, 165, 156, 170, 164, \n",
    "      173, 165, 163, 177, 171]\n",
    "girls=[169, 170, 162, 154, \n",
    "       183, 173, 169, 167,\n",
    "       170, 185, 162, 175,\n",
    "       168, 151, 181, 170,\n",
    "       182, 156, 159, 160]"
   ]
  },
  {
   "cell_type": "code",
   "execution_count": 7,
   "metadata": {},
   "outputs": [
    {
     "name": "stdout",
     "output_type": "stream",
     "text": [
      "np_mean_boy:  165.95\n",
      "np_mean_girl:  168.3\n"
     ]
    }
   ],
   "source": [
    "# 平均值\n",
    "np_mean_boy = np.mean(boys)\n",
    "print(\"np_mean_boy: \", np_mean_boy)\n",
    "np_mean_girl = np.mean(girls)\n",
    "print(\"np_mean_girl: \", np_mean_girl)"
   ]
  },
  {
   "cell_type": "code",
   "execution_count": 10,
   "metadata": {},
   "outputs": [
    {
     "name": "stdout",
     "output_type": "stream",
     "text": [
      "np_median_boy:  165.0\n",
      "np_median_girl:  169.0\n"
     ]
    }
   ],
   "source": [
    "# 中位數\n",
    "np_median_boy = np.median(boys)\n",
    "print(\"np_median_boy: \", np_median_boy)\n",
    "np_median_girl = np.median(girls)\n",
    "print(\"np_median_girl: \", np_median_girl)"
   ]
  },
  {
   "cell_type": "code",
   "execution_count": 14,
   "metadata": {},
   "outputs": [
    {
     "name": "stdout",
     "output_type": "stream",
     "text": [
      "np_var_boy:  84.89\n",
      "np_var_girl:  95.38\n"
     ]
    }
   ],
   "source": [
    "# 變異數\n",
    "np_var_boy = np.var(boys, ddof = 1).round(2)\n",
    "print(\"np_var_boy: \", np_var_boy)\n",
    "np_var_girl = np.var(girls, ddof = 1).round(2)\n",
    "print(\"np_var_girl: \", np_var_girl)"
   ]
  },
  {
   "cell_type": "code",
   "execution_count": 23,
   "metadata": {},
   "outputs": [
    {
     "name": "stdout",
     "output_type": "stream",
     "text": [
      "stats_skew_boy:  -0.47132127317376954 \n",
      "stats_skew_girl:  0.059853211293650746\n",
      "\n",
      "stats_kurtosis_boy:  0.19395882957876331 \n",
      "stats_kurtosis_girl:  -0.8203607083948947\n"
     ]
    }
   ],
   "source": [
    "stats_skew_boy = stats.skew(boys)\n",
    "stats_skew_girl = stats.skew(girls)\n",
    "print(\"stats_skew_boy: \", stats_skew_boy, \"\\nstats_skew_girl: \", stats_skew_girl)\n",
    "print(\"\")\n",
    "stats_kurtosis_boy = stats.kurtosis(boys)\n",
    "stats_kurtosis_girl = stats.kurtosis(girls)\n",
    "print(\"stats_kurtosis_boy: \", stats_kurtosis_boy, \"\\nstats_kurtosis_girl: \", stats_kurtosis_girl)"
   ]
  },
  {
   "cell_type": "code",
   "execution_count": 33,
   "metadata": {},
   "outputs": [
    {
     "data": {
      "image/png": "[encoded data removed]",
      "text/plain": [
       "<Figure size 432x288 with 1 Axes>"
      ]
     },
     "metadata": {
      "needs_background": "light"
     },
     "output_type": "display_data"
    }
   ],
   "source": [
    "plt.hist(boys, alpha = 0.5, bins = 40)\n",
    "plt.title('boy, skewness = {0}, kurtosis = {1}'.format(round(stats_skew_boy, 2), round(stats_kurtosis_boy, 2)))\n",
    "plt.axvline(x = np_mean_boy)\n",
    "plt.show()"
   ]
  },
  {
   "cell_type": "code",
   "execution_count": 32,
   "metadata": {},
   "outputs": [
    {
     "data": {
      "image/png": "[encoded data removed]",
      "text/plain": [
       "<Figure size 432x288 with 1 Axes>"
      ]
     },
     "metadata": {
      "needs_background": "light"
     },
     "output_type": "display_data"
    }
   ],
   "source": [
    "plt.hist(girls, alpha = 0.5, bins = 40, color = \"#D9B3B3\")\n",
    "plt.title('boy, skewness = {0}, kurtosis = {1}'.format(round(stats_skew_girl, 2), round(stats_kurtosis_girl, 2)))\n",
    "plt.axvline(x = np_mean_girl, color = \"#B87070\")\n",
    "plt.show()"
   ]
  },
  {
   "cell_type": "code",
   "execution_count": 34,
   "metadata": {},
   "outputs": [
    {
     "data": {
      "image/png": "[encoded data removed]",
      "text/plain": [
       "<Figure size 432x288 with 1 Axes>"
      ]
     },
     "metadata": {
      "needs_background": "light"
     },
     "output_type": "display_data"
    }
   ],
   "source": [
    "plt.hist(boys, alpha = 0.4, bins = 40)\n",
    "plt.hist(girls, alpha = 0.4, bins = 40, color = \"#D9B3B3\")\n",
    "plt.title(\"all samples\")\n",
    "plt.axvline(x = np_mean_boy)\n",
    "plt.axvline(x = np_mean_girl, color = \"#B87070\")\n",
    "plt.show()"
   ]
  },
  {
   "cell_type": "code",
   "execution_count": null,
   "metadata": {},
   "outputs": [],
   "source": []
  }
 ],
 "metadata": {
  "kernelspec": {
   "display_name": "Python 3",
   "language": "python",
   "name": "python3"
  },
  "language_info": {
   "codemirror_mode": {
    "name": "ipython",
    "version": 3
   },
   "file_extension": ".py",
   "mimetype": "text/x-python",
   "name": "python",
   "nbconvert_exporter": "python",
   "pygments_lexer": "ipython3",
   "version": "3.8.5"
  }
 },
 "nbformat": 4,
 "nbformat_minor": 4
}
